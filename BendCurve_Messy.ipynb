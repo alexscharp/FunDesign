{
 "cells": [
  {
   "cell_type": "code",
   "execution_count": 169,
   "metadata": {},
   "outputs": [],
   "source": [
    "import bezier\n",
    "import numpy as np\n",
    "import matplotlib.pyplot as plt\n",
    "import seaborn\n",
    "from scipy.ndimage import rotate\n",
    "from matplotlib.patches import Arc"
   ]
  },
  {
   "cell_type": "code",
   "execution_count": 170,
   "metadata": {},
   "outputs": [],
   "source": [
    "# Rotates the nodes by the provided angle (in degrees)\n",
    "def rotateNodes(nodes, angle):\n",
    "    # convert angle from degrees to radians\n",
    "    theta = np.radians(angle)\n",
    "    # define rotation matrix\n",
    "    c, s = np.cos(theta), np.sin(theta)\n",
    "    A = np.array([[c, -s], [s, c]])\n",
    "    # apply rotation\n",
    "    rot_nodes = nodes.transpose().dot(A).transpose()\n",
    "    return rot_nodes"
   ]
  },
  {
   "cell_type": "code",
   "execution_count": 171,
   "metadata": {},
   "outputs": [],
   "source": [
    "# Splits a bezier curve and splices them together with an arc\n",
    "# The second half of the bezier curve will be rotated and translated\n",
    "#     to be tangent with the arc\n",
    "def bendCurve():\n",
    "    \n",
    "    # original bezier curve\n",
    "    nodes = np.asfortranarray([\n",
    "        [0.0, 0.3, 0.5, 1.0, 1.5],\n",
    "        [0.0, 0.5, -0.2, 0.5, 0.2],\n",
    "    ])\n",
    "    curve = bezier.Curve.from_nodes(nodes)\n",
    "    \n",
    "    # plot original bezier curve, nodes, and polygon\n",
    "    seaborn.set()\n",
    "    ax = curve.plot(num_pts=256, color='purple')\n",
    "    lines = ax.plot(\n",
    "        nodes[0, :], nodes[1, :],\n",
    "        marker='.', linestyle='-', color='black')\n",
    "    ax.set_xlim(-0.05, 1.6)\n",
    "    ax.set_ylim(-0.4, 0.6)\n",
    "    \n",
    "    # LEFT SIDE\n",
    "    split1 = 0.5\n",
    "    left = curve.specialize(0, split1)\n",
    "    collisionPoint = left.nodes[:, -1]\n",
    "    \n",
    "    \n",
    "    \n",
    "    # MAKE THE ARC\n",
    "    # first, define the parameters\n",
    "    \n",
    "    # radius (given)\n",
    "    radius = 0.2\n",
    "    \n",
    "    # center (determined by radius and curve)\n",
    "    direction = 1    # center to the right of curve ==> 1, to the left of curve ==> -1\n",
    "    tangent1 = left.nodes[:, -1] - left.nodes[:, -2]\n",
    "    tangent1 = tangent1 / np.linalg.norm(tangent1) # tangent with magnitude 1\n",
    "    rotMatrix = direction * np.array([[0, -1], [1, 0]]) # rotate 90 degrees\n",
    "    normal = tangent1.transpose().dot(rotMatrix).transpose()\n",
    "    center = left.nodes[:, -1] + radius * normal\n",
    "    \n",
    "    # start angle (determined by contact point and center)\n",
    "    # note: angles measured in degrees counterclockwise from vector [1, 0]\n",
    "    u = collisionPoint - center\n",
    "    theta1 = np.arctan2(u[1], u[0]) * 180 / np.pi\n",
    "    \n",
    "    # end angle (determined by arc length, contact point, and center)\n",
    "    split2 = 0.7\n",
    "    middle = curve.specialize(split1, split2)    \n",
    "    arcLength = middle.length\n",
    "    arcAngle = 180 * arcLength / (np.pi * radius)\n",
    "    theta2 = theta1 - direction * arcAngle\n",
    "    \n",
    "    # make the arc\n",
    "    arc = None\n",
    "    # If coil is unraveling to the RIGHT, the arc should be drawn\n",
    "    # from theta2 (contactPoint) to theta1 (collisoinPoint)\n",
    "    if direction == 1: \n",
    "        arc = Arc((center[0], center[1]), 2*radius, 2*radius,\n",
    "              theta1=theta2, theta2=theta1, ec='purple', lw=2)\n",
    "    # If coils is unraveling to the LEFT, the arc should be drawn\n",
    "    # from theta1 (collisionPoint) to theta2 (contactPoint)\n",
    "    else:\n",
    "        arc = Arc((center[0], center[1]), 2*radius, 2*radius,\n",
    "              theta1=theta1, theta2=theta2, ec='purple', lw=2)\n",
    "\n",
    "    \n",
    "    # ADJUST RIGHT SIDE\n",
    "    right = curve.specialize(split2, 1)\n",
    "    rNodes = right.nodes\n",
    "\n",
    "    # get the contact point\n",
    "    transVec = np.array([np.cos(theta2 * np.pi / 180), np.sin(theta2 * np.pi / 180)])\n",
    "    contactPoint = center + radius * transVec\n",
    "    \n",
    "    # rotate nodes\n",
    "    # rotation angle must account for contact angle (theta2) and \n",
    "    # the initial tangent to the curve (tangent2)\n",
    "    targetAngle = theta2 + 90 * direction\n",
    "    tangent2 = rNodes[:, 1] - rNodes[:, 0]\n",
    "    tangent2 = tangent2 / np.linalg.norm(tangent2) # tangent with magnitude 1\n",
    "    tangent2Angle = np.arctan2(tangent2[1], tangent2[0]) * 180 / np.pi\n",
    "    rotAngle = targetAngle + tangent2Angle\n",
    "    rNodes = rotateNodes(rNodes, rotAngle)\n",
    "    \n",
    "    # translate nodes to the contact point\n",
    "    rNodes = rNodes.transpose()\n",
    "    rNodes = rNodes + (contactPoint - rNodes[0,:])\n",
    "    rNodes = rNodes.transpose()\n",
    "    \n",
    "    # make a new curve on these nodes\n",
    "    right = bezier.Curve.from_nodes(rNodes)\n",
    "    \n",
    "    \n",
    "    # PLOT RESULTS\n",
    "    seaborn.set()\n",
    "    # left side\n",
    "    ax = left.plot(num_pts=256, color='red')\n",
    "    ax.plot(\n",
    "        left.nodes[0, :], left.nodes[1, :],\n",
    "        marker='.', linestyle='-', color='orange')\n",
    "    ax.plot(\n",
    "        collisionPoint[0], collisionPoint[1], marker='o', color='red')\n",
    "    # arc\n",
    "    ax.plot(center[0], center[1], marker='o', color='purple')\n",
    "    ax.add_patch(arc)\n",
    "    ax.plot(contactPoint[0], contactPoint[1], marker='o', color='blue')\n",
    "    # right side\n",
    "    _ = right.plot(num_pts=256, ax=ax, color='blue')\n",
    "    _.plot(\n",
    "        right.nodes[0, :], right.nodes[1, :],\n",
    "        marker='.', linestyle='-', color='green')\n",
    "    \n",
    "    ax.set_aspect('equal')\n",
    "    plt.show()"
   ]
  },
  {
   "cell_type": "code",
   "execution_count": 172,
   "metadata": {},
   "outputs": [
    {
     "data": {
      "image/png": "[encoded data removed]",
      "text/plain": [
       "<matplotlib.figure.Figure at 0x7f5cfc3b8490>"
      ]
     },
     "metadata": {},
     "output_type": "display_data"
    },
    {
     "data": {
      "image/png": "[encoded data removed]",
      "text/plain": [
       "<matplotlib.figure.Figure at 0x7f5cfc3b8050>"
      ]
     },
     "metadata": {},
     "output_type": "display_data"
    }
   ],
   "source": [
    "if __name__ == \"__main__\":\n",
    "    bendCurve()"
   ]
  },
  {
   "cell_type": "code",
   "execution_count": null,
   "metadata": {},
   "outputs": [],
   "source": []
  }
 ],
 "metadata": {
  "kernelspec": {
   "display_name": "Python 2",
   "language": "python",
   "name": "python2"
  },
  "language_info": {
   "codemirror_mode": {
    "name": "ipython",
    "version": 2
   },
   "file_extension": ".py",
   "mimetype": "text/x-python",
   "name": "python",
   "nbconvert_exporter": "python",
   "pygments_lexer": "ipython2",
   "version": "2.7.12"
  }
 },
 "nbformat": 4,
 "nbformat_minor": 2
}
